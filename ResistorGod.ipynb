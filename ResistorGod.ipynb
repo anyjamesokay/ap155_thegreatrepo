{
 "cells": [
  {
   "cell_type": "code",
   "execution_count": 1,
   "id": "5f02186e-1a27-4cdb-8829-8aa118b3cc0e",
   "metadata": {},
   "outputs": [
    {
     "name": "stdout",
     "output_type": "stream",
     "text": [
      "[-7.5  2.5 -2.5  7.5]\n"
     ]
    }
   ],
   "source": [
    "import numpy as np \n",
    "\n",
    "v1 = 5 #volts\n",
    "v2 = 10 #volts\n",
    "r = 1 #ohm\n",
    "\n",
    "resistor_mat = np.array([\n",
    "    [-r, -r, 0, 0], # top loop\n",
    "    [r, 0, r, 0],   # bottom-left loop\n",
    "    [0, r, 0 ,r],   # bottom-right loop\n",
    "    [1, -1, -1, 1]  # junction rule\n",
    "])\n",
    "\n",
    "volt_vec = np.array([v1, -v2, v2, 0])\n",
    "cur_vec = np.linalg.solve(resistor_mat, volt_vec)\n",
    "\n",
    "print(cur_vec)"
   ]
  },
  {
   "cell_type": "code",
   "execution_count": 2,
   "id": "2cfe97e8-98e1-453e-8029-a1c9085eebe5",
   "metadata": {},
   "outputs": [
    {
     "name": "stdout",
     "output_type": "stream",
     "text": [
      "[ 2.5  2.5 -0.   2.5  2.5]\n",
      "1.0\n"
     ]
    }
   ],
   "source": [
    "# n = 2\n",
    "r1, r2, r3, r4 = 1, 1, 1, 1\n",
    "vin = 5\n",
    "resistor_mat = np.array([\n",
    "    [+r1,   0,   0,   0, +r4],\n",
    "    [+r1, +r2, +r3,   0,   0],\n",
    "    [  0, +r2,   0, +r4,   0],\n",
    "    [ +1,  -1,   0,  1,  -1],\n",
    "    [ -1,  -1,   0,  +1,  +1]\n",
    "])\n",
    "\n",
    "volt_vec = np.array([vin, vin, vin, 0, 0])\n",
    "\n",
    "eff_curr2 = np.linalg.solve(resistor_mat, volt_vec)\n",
    "print(eff_curr2)\n",
    "print(vin/np.sum(eff_curr2[0::3]))"
   ]
  },
  {
   "cell_type": "code",
   "execution_count": 3,
   "id": "879f1c52-2489-4b3c-bbbd-4dcfd6d3d24d",
   "metadata": {},
   "outputs": [
    {
     "name": "stdout",
     "output_type": "stream",
     "text": [
      "[2.5   2.5   1.25  0.625 1.875 1.875 0.625]\n",
      "1.1428571428571428\n"
     ]
    }
   ],
   "source": [
    "#n = 3\n",
    "def resistor_matrix3(r1, r2, r3, r4):\n",
    "    return np.array([[r1, r1, 0, 0, 0, 0, 0],\n",
    "                    [r1, 0, 0, 0, r3, 0, r4],\n",
    "                    [0, r1, 0, r3, 0, r4, 0],\n",
    "                    [0, 0, r2, 0, r3, r4, 0],\n",
    "                    [1, -1, 0, 0, -1, 1, 0],\n",
    "                    [0, 0, -1, -1, 0, 1, 0],\n",
    "                    [1, -1, 0, 1, 0, 0, -1]])\n",
    "\n",
    "volt_vec3 = np.array([5, 5, 5, 5, 0, 0, 0])\n",
    "eff_curr3 = np.linalg.solve(resistor_matrix3(1, 1, 1, 1), volt_vec3)\n",
    "print(eff_curr3)\n",
    "print(5/np.sum(eff_curr3[0::5]))"
   ]
  },
  {
   "cell_type": "code",
   "execution_count": 4,
   "id": "5b06c631-cbd5-4466-b6c5-9614c05e2181",
   "metadata": {},
   "outputs": [
    {
     "name": "stdout",
     "output_type": "stream",
     "text": [
      "[ 2.          1.33333333  1.33333333  2.         -0.33333333 -0.33333333\n",
      "  1.66666667  1.          1.66666667]\n",
      "Effective R: 1.3636363636363635\n"
     ]
    }
   ],
   "source": [
    "# n = 4, convention n/2, n, 3n/2, 2n+1\n",
    "def resistor_matrix4(r1, r2, r3, r4):\n",
    "    return np.array([[r1, r1, 0, 0, 0, 0, 0, 0, r4],\n",
    "                     [r1, r1, 0, r2, 0, r3, 0, 0, 0],\n",
    "                     [r1, 0, 0, r2, 0, 0, 0, r4, 0],\n",
    "                     [r1, 0, r2, r2, r3, 0, 0, 0, 0],\n",
    "                     [0, 0, r2, r2, 0, 0, r4, 0, 0],\n",
    "                     [0, 0, -1, 0, 1, 0, 1, 0, 0],\n",
    "                     [0, 1, 0, 0, 0, -1, 0, 0, -1],\n",
    "                     [1, 0, 0, -1, 0, 0, 1, 0, -1],\n",
    "                     [1, -1, 0, 0, -1, 0, 0, -1, 0]])\n",
    "\n",
    "volt_vec4 = np.array([5, 5, 5, 5, 5, 0, 0, 0, 0])\n",
    "eff_curr = np.linalg.solve(resistor_matrix4(1, 1, 1, 1), volt_vec4)\n",
    "print(eff_curr)\n",
    "print('Effective R:', vin/np.sum(eff_curr[0::6]))"
   ]
  },
  {
   "cell_type": "code",
   "execution_count": 5,
   "id": "6dd0c70e-e559-4563-a279-c994d0cb9fc7",
   "metadata": {},
   "outputs": [
    {
     "name": "stdout",
     "output_type": "stream",
     "text": [
      "[ 1.56862745  1.17647059  0.98039216  0.98039216  1.17647059  1.56862745\n",
      " -0.29411765 -0.49019608 -0.29411765  1.2745098   0.68627451  0.68627451\n",
      "  1.2745098 ]\n",
      "Effective Resistance: 1.7586206896551724 ohms\n"
     ]
    }
   ],
   "source": [
    "# n = 6, convention n/2, n, 3n/2, 2n+1\n",
    "def resistor_matrix6(r1, r2, r3, r4):\n",
    "    return np.array([[r1, r1, r1, 0, 0, 0, 0, 0, 0, 0, 0, 0, r4],\n",
    "                     [r1, r1, r1, 0, 0, r2, 0, 0, r3, 0, 0, 0, 0],\n",
    "                     [r1, r1, 0, 0, 0, r2, 0, 0, 0, 0, 0, r4, 0],\n",
    "                     [r1, r1, 0, 0, r2, r2, 0, r3, 0, 0, 0, 0, 0],\n",
    "                     [r1, 0, 0, 0, r2, r2, 0, 0, 0, 0, r4, 0, 0],\n",
    "                     [r1, 0, 0, r2, r2, r2, r3, 0, 0, 0, 0, 0, 0],\n",
    "                     [0, 0, 0, r2, r2, r2, 0, 0, 0, r4, 0, 0, 0],\n",
    "                     [0, 0, 0, -1, 0, 0, 1, 0, 0, 1, 0, 0, 0],\n",
    "                     [0, 0, 1, 0, 0, 0, 0, 0, -1, 0, 0, 0, -1],\n",
    "                     [1, 0, 0, 0, 0, -1, 0, 0, 0, 1, 0, 0, -1],\n",
    "                     [1, -1, 0, 0, 0, 0, -1, 0, 0, 0, -1, 0, 0],\n",
    "                     [0, 1, -1, 0, 0, 0, 0, -1, 0, 0, 0, -1, 0],\n",
    "                     [0, 0, 0, 1, -1, 0, 0, 1, 0, 0, 1, 0, 0]])\n",
    "\n",
    "volt_vec6 = np.array([5, 5, 5, 5, 5, 5, 5, 0, 0, 0, 0, 0, 0])\n",
    "eff_curr6 = np.linalg.solve(resistor_matrix6(1, 1, 1, 1), volt_vec6)\n",
    "\n",
    "print(eff_curr6)\n",
    "print(\"Effective Resistance:\", vin/np.sum(eff_curr6[0::9]), \"ohms\")"
   ]
  },
  {
   "cell_type": "code",
   "execution_count": 6,
   "id": "a696d303-b9f8-4a89-936e-06987f810b81",
   "metadata": {},
   "outputs": [
    {
     "name": "stdin",
     "output_type": "stream",
     "text": [
      " 8\n"
     ]
    },
    {
     "name": "stdout",
     "output_type": "stream",
     "text": [
      "n = 8 ; Effective Resistance: 2.157894736842105 ohms\n"
     ]
    }
   ],
   "source": [
    "# overall case for even n\n",
    "import matplotlib.pyplot as plt\n",
    "def current_matrix(n, r1, r2, r3, r4):\n",
    "    matrix = np.zeros((2*n+1, 2*n+1)).tolist()   #starting with an empty array seems to be more tedious.\n",
    "    if n % 2 == 0:\n",
    "        i = 0 #index for replacing row elements\n",
    "        q = 0 #index for going through the entire matrix\n",
    "        #All Kirchoff's Loop Rules\n",
    "        while i < (n/2)+ 1: # all r4 paths\n",
    "            j = 0\n",
    "            if i <= (n/2):\n",
    "                while j < (n/2) - i: \n",
    "                    matrix[q][j] = r1\n",
    "                    j += 1\n",
    "            if i > 0:\n",
    "                j = 0\n",
    "                while j < i:\n",
    "                    matrix[q][n-j-1] = r2\n",
    "                    j += 1\n",
    "            matrix[q][2*n-i] = r4\n",
    "            i += 1\n",
    "            q += 1\n",
    "        i = 0\n",
    "        while i < n/2: # all r3 paths\n",
    "            j = 0\n",
    "            while j < (n/2) - i: \n",
    "                matrix[q][j] = r1\n",
    "                j += 1\n",
    "            j = 0\n",
    "            while j <= i:\n",
    "                matrix[q][n-j-1] = r2\n",
    "                j += 1\n",
    "            matrix[q][int((3*n)/2)-i-1] = r3\n",
    "            i += 1\n",
    "            q += 1\n",
    "        i = 0\n",
    "        #Almost all Kirchoff's Junction Rules\n",
    "        while i < n/2: #The Top Junctions\n",
    "            if q == 2*n:\n",
    "                break\n",
    "            j = 0            \n",
    "            matrix[q][i]=1\n",
    "            matrix[q][i+1]=matrix[q][n+i]=matrix[q][int((3*n)/2)+1+i] = -1\n",
    "            if i == (n/2)-1:\n",
    "                matrix[q][i+1] = 0\n",
    "            i+= 1\n",
    "            q+= 1           \n",
    "        i = 0\n",
    "        while i < (n/2)-1: #The Bottom Junctions\n",
    "            if q == 2*n:\n",
    "                break\n",
    "            matrix[q][int(n/2)+i-1]=matrix[q][int((3*n)/2)+i]=matrix[q][n+i]=1\n",
    "            matrix[q][int(n/2)+i]=-1\n",
    "            if i == 0:\n",
    "                matrix[q][int(n/2)+i-1] = 0\n",
    "            i += 1\n",
    "            q += 1           \n",
    "        #The Last Junction Rule. Separate from all other patterns.\n",
    "        matrix[2*n][0] = matrix[2*n][int((3*n)/2)] = 1\n",
    "        matrix[2*n][n-1] = matrix[2*n][2*n] = -1\n",
    "    \"\"\"\n",
    "    else: #Odd n case. Doesn't work at time of submission 2025-09-11.\n",
    "        i = 0\n",
    "        q = 0\n",
    "        #All Kirchoff's Loop Rule equations\n",
    "        while i < int((n + 1)/2) + 1: #Without bottom resistors.\n",
    "            j = 0\n",
    "            while j < int((n + 1)/2):\n",
    "                matrix[q][j] = r1\n",
    "                j += 1\n",
    "            if i > 0:\n",
    "                matrix[q][int((n+1)/2)-i] = 0\n",
    "                matrix[q][int((3*n/2)+(1/2))-i] = r3\n",
    "                matrix[q][2*n+1-i] = r4\n",
    "            i += 1\n",
    "            q += 1\n",
    "        i = 0\n",
    "        while i < int((n+1)/2 - 1): #Bottom resistors.\n",
    "            j = 0\n",
    "            while j < int((n + 1)/2):\n",
    "                matrix[q][j] = r1\n",
    "                j += 1\n",
    "            matrix[q][i] = matrix[q][i+1] = 0\n",
    "            matrix[q][int((n+1)/2)+i] = r2\n",
    "            matrix[q][n+1+i] = r3\n",
    "            matrix[q][int((3*n/2)+(1/2))+i] = r4\n",
    "            i += 1\n",
    "            q += 1\n",
    "        i = 0\n",
    "        #All Junction Rules\n",
    "        while i < int((n-1)/2): #Top Junctions\n",
    "            if q == 2*n:\n",
    "                break\n",
    "            matrix[q][i] = matrix[q][n+i] = 1\n",
    "            matrix[q][i+1] = matrix[q][int((3*n)/2+(3/2)+i)] = -1\n",
    "            i += 1\n",
    "            q += 1\n",
    "        i = 0\n",
    "        while i < int((n+1)/2): #Bottom Junctions\n",
    "            if q == 2*n:\n",
    "                break\n",
    "            matrix[q][int((n+1)/2)-1+i] = matrix[q][int((3*n)/2+(1/2)+i)] = 1\n",
    "            matrix[q][int((n+1)/2)+i] = matrix[q][n-1+i] = -1\n",
    "            if i == 0:\n",
    "                matrix[q][int((n+1)/2)-1+i] = 0\n",
    "            i += 1\n",
    "            q += 1\n",
    "        #Last Junction Rule\n",
    "        matrix[2*n][0] = matrix[2*n][int((3*n/2)+(3/2))] = 1\n",
    "        matrix[2*n][int((3*n/2)+(1/2))] = matrix[2*n][int((n+1)/2)] = -1\n",
    "    \"\"\"\n",
    "    return np.array(matrix)\n",
    "\n",
    "def voltvector(n, v):\n",
    "    matrix = []\n",
    "    m = 0\n",
    "    while m < (n + 1): # for all loop rule equations\n",
    "        matrix.append(v)\n",
    "        m += 1   \n",
    "    while m < (2*n+1): # for all junction rule equations\n",
    "        matrix.append(0)\n",
    "        m += 1    \n",
    "    return np.array(matrix)\n",
    "\n",
    "r1 = r2 = r3 = r4 = 1\n",
    "vin = 5\n",
    "n = int(input())\n",
    "eff_i = np.linalg.solve(current_matrix(n, r1, r2, r3, r4), voltvector(n, vin))   \n",
    "eff_r = vin/np.sum(eff_i[0::int(3*n/2)])\n",
    "print(\"n =\", n, \";\", \"Effective Resistance:\", eff_r, \"ohms\")"
   ]
  },
  {
   "cell_type": "code",
   "execution_count": 7,
   "id": "f083427b-a84b-4fb6-a536-91110499b90d",
   "metadata": {},
   "outputs": [
    {
     "name": "stdout",
     "output_type": "stream",
     "text": [
      "[0.19998517 0.55974933]\n"
     ]
    },
    {
     "data": {
      "text/plain": [
       "Text(0, 0.5, 'Effective Resistance (Ohms)')"
      ]
     },
     "execution_count": 7,
     "metadata": {},
     "output_type": "execute_result"
    },
    {
     "data": {
      "image/png": "[encoded data removed]",
      "text/plain": [
       "<Figure size 640x480 with 1 Axes>"
      ]
     },
     "metadata": {},
     "output_type": "display_data"
    }
   ],
   "source": [
    "nlist = np.arange(2, 200, 2)\n",
    "ilist = []\n",
    "rlist = []\n",
    "k = 0\n",
    "for u in nlist:\n",
    "    ilist.append(np.linalg.solve(current_matrix(u, r1, r2, r3, r4), voltvector(u, vin)))\n",
    "\n",
    "while k < int(nlist.size):\n",
    "    rlist.append(vin/np.sum(ilist[k][0::int(3*nlist[k]/2)]))\n",
    "    k += 1\n",
    "\n",
    "x = np.array(nlist)\n",
    "y = np.array(rlist)\n",
    "bestfit = np.polyfit(x, y, 1)\n",
    "y2 = float(bestfit[0])*x + float(bestfit[1])\n",
    "print(bestfit)\n",
    "plt.scatter(x, y, s = 15, c = 'Red', label='R_eff(n)')\n",
    "plt.plot(x, y2, label=r'Best Fit: $y = 0.2000x + 0.5597$')\n",
    "plt.legend()\n",
    "plt.title(r'Effective Resistance for even $n$ systems')\n",
    "plt.xlabel(r'Number of delta resistor systems $n$')\n",
    "plt.ylabel('Effective Resistance (Ohms)')"
   ]
  }
 ],
 "metadata": {
  "kernelspec": {
   "display_name": "Python [conda env:base] *",
   "language": "python",
   "name": "conda-base-py"
  },
  "language_info": {
   "codemirror_mode": {
    "name": "ipython",
    "version": 3
   },
   "file_extension": ".py",
   "mimetype": "text/x-python",
   "name": "python",
   "nbconvert_exporter": "python",
   "pygments_lexer": "ipython3",
   "version": "3.12.7"
  }
 },
 "nbformat": 4,
 "nbformat_minor": 5
}
